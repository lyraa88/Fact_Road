{
  "nbformat": 4,
  "nbformat_minor": 0,
  "metadata": {
    "colab": {
      "provenance": []
    },
    "kernelspec": {
      "name": "python3",
      "display_name": "Python 3"
    },
    "language_info": {
      "name": "python"
    }
  },
  "cells": [
    {
      "cell_type": "code",
      "execution_count": 2,
      "metadata": {
        "colab": {
          "base_uri": "https://localhost:8080/"
        },
        "id": "rajExtflV2oz",
        "outputId": "26048a4f-db86-4e49-8a8b-cd06ccd3ec8d"
      },
      "outputs": [
        {
          "output_type": "stream",
          "name": "stdout",
          "text": [
            "군집 0의 실루엣 점수: 0.4237\n",
            "군집 1의 실루엣 점수: 0.4677\n",
            "군집 2의 실루엣 점수: 0.4715\n",
            "전체 실루엣 점수: 0.4662\n"
          ]
        }
      ],
      "source": [
        "import pandas as pd\n",
        "from sklearn.metrics import silhouette_score, silhouette_samples\n",
        "from sklearn.preprocessing import StandardScaler\n",
        "import numpy as np\n",
        "import ast  # 문자열 형태의 리스트를 실제 리스트로 변환하는 데 사용\n",
        "\n",
        "# 데이터 불러오기\n",
        "df = pd.read_csv('6_youtube_id_title_embedding_clusters_similarity.csv')\n",
        "\n",
        "# hugging_face_embedding_10000과 centroid_vector를 문자열에서 리스트로 변환\n",
        "df['embedding_1000'] = df['embedding_1000'].apply(ast.literal_eval)\n",
        "df['centroid_vector'] = df['centroid_vector'].apply(ast.literal_eval)\n",
        "\n",
        "# hugging_face_embedding_10000과 centroid_vector를 합쳐서 하나의 데이터로 변환\n",
        "X = np.array([np.concatenate([np.ravel(emb), np.ravel(centroid)]) for emb, centroid in zip(df['embedding_1000'], df['centroid_vector'])])\n",
        "\n",
        "# 데이터 스케일링\n",
        "scaler = StandardScaler()\n",
        "X_scaled = scaler.fit_transform(X)\n",
        "\n",
        "# 실루엣 샘플 점수 계산\n",
        "silhouette_vals = silhouette_samples(X_scaled, df['cluster'])\n",
        "\n",
        "# 군집별 실루엣 점수 계산\n",
        "for cluster_num in sorted(df['cluster'].unique()):\n",
        "    # 해당 군집에 속한 샘플들의 실루엣 점수\n",
        "    cluster_silhouette_vals = silhouette_vals[df['cluster'] == cluster_num]\n",
        "    # 해당 군집의 평균 실루엣 점수\n",
        "    cluster_silhouette_avg = np.mean(cluster_silhouette_vals)\n",
        "    print(f\"군집 {cluster_num}의 실루엣 점수: {cluster_silhouette_avg:.4f}\")\n",
        "\n",
        "# 전체 실루엣 점수 계산\n",
        "silhouette_avg = silhouette_score(X_scaled, df['cluster'])\n",
        "print(f\"전체 실루엣 점수: {silhouette_avg:.4f}\")"
      ]
    }
  ]
}