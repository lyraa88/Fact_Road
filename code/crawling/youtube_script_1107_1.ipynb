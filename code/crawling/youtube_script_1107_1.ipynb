{
 "cells": [
  {
   "cell_type": "markdown",
   "metadata": {},
   "source": [
    "### 크롬 드라이버 열기"
   ]
  },
  {
   "cell_type": "markdown",
   "metadata": {},
   "source": [
    "#### 확장 프로그램(.crx) 적용하기"
   ]
  },
  {
   "cell_type": "code",
   "execution_count": null,
   "metadata": {},
   "outputs": [],
   "source": [
    "# import base64\n",
    "\n",
    "# # YouTube to Text 확장 프로그램\n",
    "# crx_file_path = 'downloaded/apnedodbofogffiagpekmbeflilkcbgf.crx'\n",
    "# with open(crx_file_path, 'rb') as crx_file:\n",
    "#     encoded_extension = base64.b64encode(crx_file.read()).decode('utf-8')"
   ]
  },
  {
   "cell_type": "markdown",
   "metadata": {},
   "source": [
    "#### 크롬 드라이버 옵션 설정"
   ]
  },
  {
   "cell_type": "code",
   "execution_count": 23,
   "metadata": {},
   "outputs": [],
   "source": [
    "from selenium import webdriver\n",
    "from selenium.webdriver.chrome.options import Options\n",
    "\n",
    "options = Options()\n",
    "options.add_argument(\"--disable-blink-features=AutomationControlled\")\n",
    "options.add_argument(\"--mute-audio\")  # 음소거 옵션 추가\n",
    "# options.add_encoded_extension(encoded_extension)  # YouTube to Text 확장 프로그램\n",
    "\n",
    "driver = webdriver.Chrome(options=options)"
   ]
  },
  {
   "cell_type": "markdown",
   "metadata": {},
   "source": [
    "---\n",
    "\n",
    "### 로그인 시도"
   ]
  },
  {
   "cell_type": "code",
   "execution_count": 24,
   "metadata": {},
   "outputs": [],
   "source": [
    "from selenium.webdriver.common.by import By\n",
    "from selenium.webdriver.common.keys import Keys\n",
    "import global_constants\n",
    "\n",
    "# 로그인이 완료되면 유튜브로 넘어가는 url\n",
    "login_url = \"https://accounts.google.com/v3/signin/identifier?checkedDomains=youtube&continue=https%3A%2F%2Fwww.youtube.com%2Fsignin%3Faction_handle_signin%3Dtrue%26app%3Ddesktop%26hl%3Dko%26next%3Dhttps%253A%252F%252Fwww.youtube.com%252F&ddm=1&ec=65620&flowEntry=ServiceLogin&flowName=GlifWebSignIn&hl=ko&ifkv=AcMMx-fxZ82P_dh4l0x5OjBskffPj3UKT340XP69FSCdZDGoG_c21nyWoAp-KMGFQaoU1LvrcTn1_Q&pstMsg=1&service=youtube&dsh=S136025753%3A1730345560396742\"\n",
    "driver.get(login_url)\n",
    "\n",
    "# 아이디 입력\n",
    "username_input = driver.find_element(By.CSS_SELECTOR, \"input#identifierId.whsOnd.zHQkBf\")\n",
    "username_input.send_keys(global_constants.my_youtube_id)\n",
    "username_input.send_keys(Keys.RETURN)"
   ]
  },
  {
   "cell_type": "code",
   "execution_count": 25,
   "metadata": {},
   "outputs": [],
   "source": [
    "# 비밀번호 입력\n",
    "password_input = driver.find_element(By.CSS_SELECTOR, \"input.whsOnd.zHQkBf\")\n",
    "password_input.send_keys(global_constants.my_youtube_pw)\n",
    "password_input.send_keys(Keys.RETURN)"
   ]
  },
  {
   "cell_type": "markdown",
   "metadata": {},
   "source": [
    "로그인 완료!"
   ]
  },
  {
   "cell_type": "markdown",
   "metadata": {},
   "source": [
    "---"
   ]
  },
  {
   "cell_type": "markdown",
   "metadata": {},
   "source": [
    "### 스크립트 추출에 실패한 비디오 리스트 파일 불러오기"
   ]
  },
  {
   "cell_type": "code",
   "execution_count": null,
   "metadata": {},
   "outputs": [],
   "source": [
    "import pandas as pd\n",
    "\n",
    "df = pd.read_csv(\"shared/failed_video_ids_merged_youtube_data.csv\")\n",
    "failed_video_ids = df['videoId'].tolist()  # 중복 없음, 399개"
   ]
  },
  {
   "cell_type": "code",
   "execution_count": null,
   "metadata": {},
   "outputs": [],
   "source": [
    "print(failed_video_ids[:20])"
   ]
  },
  {
   "cell_type": "markdown",
   "metadata": {},
   "source": [
    "### 순서대로 비디오 열고 스크립트 텍스트 수집하기"
   ]
  },
  {
   "cell_type": "code",
   "execution_count": null,
   "metadata": {},
   "outputs": [],
   "source": [
    "import time\n",
    "\n",
    "video_scripts = []\n",
    "\n",
    "for i, failed_video_id in enumerate(failed_video_ids[170:]):\n",
    "    print(\"\\n\")\n",
    "\n",
    "    failed_video_url = \"https://www.youtube.com/watch?v=\" + failed_video_id\n",
    "    driver.get(failed_video_url)\n",
    "    time.sleep(7)\n",
    "    \n",
    "    # discription text: \"...더보기\" 버튼 클릭\n",
    "    try:\n",
    "        more_discription_button = driver.find_element(By.CSS_SELECTOR, 'tp-yt-paper-button#expand.button.style-scope.ytd-text-inline-expander')\n",
    "        more_discription_button.click()\n",
    "        print(f\"failed_video_id: {failed_video_id}, \\\"더보기\\\" 버튼 클릭 완료!!\")\n",
    "        time.sleep(3)\n",
    "    except Exception as e:\n",
    "        print(f\"failed_video_id: {failed_video_id}, 더보기 버튼 클릭 실패.\")\n",
    "\n",
    "    # \"스크립트 표시\" 버튼 클릭\n",
    "    try:\n",
    "        more_discription_button = driver.find_element(By.CSS_SELECTOR, 'button.yt-spec-button-shape-next.yt-spec-button-shape-next--outline.yt-spec-button-shape-next--call-to-action.yt-spec-button-shape-next--size-m.yt-spec-button-shape-next--enable-backdrop-filter-experiment')\n",
    "        more_discription_button.click()\n",
    "        print(f\"failed_video_id: {failed_video_id}, \\\"스크립트 표시\\\" 버튼 클릭 완료!!\")\n",
    "        time.sleep(3)\n",
    "        \n",
    "        # 스크립트 텍스트 수집\n",
    "        script_texts = []\n",
    "        try:\n",
    "            script_text_tags = driver.find_elements(By.CSS_SELECTOR, 'div.segment.style-scope.ytd-transcript-segment-renderer yt-formatted-string.segment-text.style-scope.ytd-transcript-segment-renderer')\n",
    "            for script_text_tag in script_text_tags:\n",
    "                script_texts.append(script_text_tag.text)\n",
    "            print(f\"failed_video_id: {failed_video_id}, 스크립트 텍스트 수집 완료!!\")\n",
    "        except Exception as e:\n",
    "            print(\"script_texts Error.\")\n",
    "            script_texts = None\n",
    "\n",
    "    except Exception as e:\n",
    "        print(f\"failed_video_id: {failed_video_id}, 스크립트 정보 없음.\")\n",
    "        script_texts = None\n",
    "\n",
    "    video_scripts.append([failed_video_id, script_texts])"
   ]
  },
  {
   "cell_type": "code",
   "execution_count": null,
   "metadata": {},
   "outputs": [],
   "source": [
    "# 수집한 url을 csv 파일로 저장\n",
    "df = pd.DataFrame(video_scripts, columns=[\"video_id\", \"script_text\"])\n",
    "df.to_csv(\"failed_video_script_try(3).csv\", index=False)\n",
    "print(\"failed_video_script_try(3).csv file saved!\")"
   ]
  },
  {
   "cell_type": "markdown",
   "metadata": {},
   "source": [
    "#### 최종 파일로 합치기"
   ]
  },
  {
   "cell_type": "code",
   "execution_count": null,
   "metadata": {},
   "outputs": [],
   "source": [
    "df1 = pd.read_csv('failed_video_script_try(1).csv')\n",
    "df2 = pd.read_csv('failed_video_script_try(2).csv')\n",
    "df3 = pd.read_csv('failed_video_script_try(3).csv')\n",
    "\n",
    "combined_df = pd.concat([df1, df2, df3])\n",
    "\n",
    "combined_df.to_csv('failed_video_script.csv', index=False)"
   ]
  },
  {
   "cell_type": "markdown",
   "metadata": {},
   "source": [
    "#### JSON 형식으로 변환하기"
   ]
  },
  {
   "cell_type": "code",
   "execution_count": null,
   "metadata": {},
   "outputs": [],
   "source": [
    "import pandas as pd\n",
    "\n",
    "df4 = pd.read_csv('data/failed_video_script_dropna.csv')\n",
    "\n",
    "output_path = 'data/failed_video_script_dropna.json'\n",
    "df4.to_json(output_path, orient='records', force_ascii=False, indent=4)\n"
   ]
  },
  {
   "cell_type": "code",
   "execution_count": null,
   "metadata": {},
   "outputs": [],
   "source": []
  }
 ],
 "metadata": {
  "kernelspec": {
   "display_name": "myenv",
   "language": "python",
   "name": "python3"
  },
  "language_info": {
   "codemirror_mode": {
    "name": "ipython",
    "version": 3
   },
   "file_extension": ".py",
   "mimetype": "text/x-python",
   "name": "python",
   "nbconvert_exporter": "python",
   "pygments_lexer": "ipython3",
   "version": "3.11.8"
  }
 },
 "nbformat": 4,
 "nbformat_minor": 2
}
